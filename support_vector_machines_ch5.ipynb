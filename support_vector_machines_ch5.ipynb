{
  "nbformat": 4,
  "nbformat_minor": 0,
  "metadata": {
    "colab": {
      "name": "support_vector_machines_ch5.ipynb",
      "provenance": [],
      "collapsed_sections": [],
      "authorship_tag": "ABX9TyMShqdOdvIz6UIJhwar6I8B",
      "include_colab_link": true
    },
    "kernelspec": {
      "name": "python3",
      "display_name": "Python 3"
    },
    "language_info": {
      "name": "python"
    }
  },
  "cells": [
    {
      "cell_type": "markdown",
      "metadata": {
        "id": "view-in-github",
        "colab_type": "text"
      },
      "source": [
        "<a href=\"https://colab.research.google.com/github/adit333/handson_machine_learning/blob/main/support_vector_machines_ch5.ipynb\" target=\"_parent\"><img src=\"https://colab.research.google.com/assets/colab-badge.svg\" alt=\"Open In Colab\"/></a>"
      ]
    },
    {
      "cell_type": "markdown",
      "source": [
        "# ***Support Vector Machines***"
      ],
      "metadata": {
        "id": "lto4J7THcijr"
      }
    },
    {
      "cell_type": "code",
      "execution_count": null,
      "metadata": {
        "id": "JMzYh6fGcc4U"
      },
      "outputs": [],
      "source": [
        "import sklearn\n",
        "\n",
        "assert sklearn.__version__ >= \"1.0.1\""
      ]
    },
    {
      "cell_type": "code",
      "source": [
        "import matplotlib.pyplot as plt\n",
        "\n",
        "plt.rc('font', size=14)\n",
        "plt.rc('axes', labelsize=14, titlesize=14)\n",
        "plt.rc('legend', fontsize=14)\n",
        "plt.rc('xtick', labelsize=10)\n",
        "plt.rc('ytick', labelsize=10)"
      ],
      "metadata": {
        "id": "n0G0NzTAuyaL"
      },
      "execution_count": null,
      "outputs": []
    },
    {
      "cell_type": "markdown",
      "source": [
        "#**Linear SVM Classification**"
      ],
      "metadata": {
        "id": "DzcWBCqIusQC"
      }
    },
    {
      "cell_type": "markdown",
      "source": [
        "The following Scikit-Learn code loads the iris dataset, scales the features, and then\n",
        "trains a linear SVM model (using the LinearSVC class with C=1 and the hinge loss\n",
        "function, described shortly) to detect Iris virginica flowers:"
      ],
      "metadata": {
        "id": "leZ3xgEIu5j8"
      }
    },
    {
      "cell_type": "code",
      "source": [
        "import numpy as np\n",
        "from sklearn.datasets import load_iris\n",
        "from sklearn.pipeline import make_pipeline\n",
        "from sklearn.preprocessing import StandardScaler\n",
        "from sklearn.svm import LinearSVC\n",
        "\n",
        "iris = load_iris(as_frame=True)\n",
        "X = iris.data[[\"petal length (cm)\", \"petal width (cm)\"]].values\n",
        "y = (iris.target == 2)  # Iris virginica\n",
        "\n",
        "svm_clf = make_pipeline(StandardScaler(),\n",
        "                        LinearSVC(C=1, random_state=42))\n",
        "svm_clf.fit(X, y)"
      ],
      "metadata": {
        "colab": {
          "base_uri": "https://localhost:8080/"
        },
        "id": "1T0_XP2murMb",
        "outputId": "fadeeda3-417b-4f56-8d1d-42f2f7551ecc"
      },
      "execution_count": null,
      "outputs": [
        {
          "output_type": "execute_result",
          "data": {
            "text/plain": [
              "Pipeline(steps=[('standardscaler', StandardScaler()),\n",
              "                ('linearsvc', LinearSVC(C=1, random_state=42))])"
            ]
          },
          "metadata": {},
          "execution_count": 3
        }
      ]
    },
    {
      "cell_type": "code",
      "source": [
        "def plot_svc_decision_boundary(svm_clf, xmin, xmax):\n",
        "    w = svm_clf.coef_[0]\n",
        "    b = svm_clf.intercept_[0]\n",
        "\n",
        "    # At the decision boundary, w0*x0 + w1*x1 + b = 0\n",
        "    # => x1 = -w0/w1 * x0 - b/w1\n",
        "    x0 = np.linspace(xmin, xmax, 200)\n",
        "    decision_boundary = -w[0] / w[1] * x0 - b / w[1]\n",
        "\n",
        "    margin = 1/w[1]\n",
        "    gutter_up = decision_boundary + margin\n",
        "    gutter_down = decision_boundary - margin\n",
        "    svs = svm_clf.support_vectors_\n",
        "\n",
        "    plt.plot(x0, decision_boundary, \"k-\", linewidth=2, zorder=-2)\n",
        "    plt.plot(x0, gutter_up, \"k--\", linewidth=2, zorder=-2)\n",
        "    plt.plot(x0, gutter_down, \"k--\", linewidth=2, zorder=-2)\n",
        "    plt.scatter(svs[:, 0], svs[:, 1], s=180, facecolors='#AAA',\n",
        "                zorder=-1)"
      ],
      "metadata": {
        "id": "bl6pUvE_Y4T-"
      },
      "execution_count": null,
      "outputs": []
    },
    {
      "cell_type": "code",
      "source": [
        "scaler = StandardScaler()\n",
        "svm_clf1 = LinearSVC(C=1, max_iter=10_000, random_state=42)\n",
        "svm_clf2 = LinearSVC(C=100, max_iter=10_000, random_state=42)\n",
        "\n",
        "scaled_svm_clf1 = make_pipeline(scaler, svm_clf1)\n",
        "scaled_svm_clf2 = make_pipeline(scaler, svm_clf2)\n",
        "\n",
        "scaled_svm_clf1.fit(X, y)\n",
        "scaled_svm_clf2.fit(X, y)\n",
        "\n",
        "# Convert to unscaled parameters\n",
        "b1 = svm_clf1.decision_function([-scaler.mean_ / scaler.scale_])\n",
        "b2 = svm_clf2.decision_function([-scaler.mean_ / scaler.scale_])\n",
        "w1 = svm_clf1.coef_[0] / scaler.scale_\n",
        "w2 = svm_clf2.coef_[0] / scaler.scale_\n",
        "svm_clf1.intercept_ = np.array([b1])\n",
        "svm_clf2.intercept_ = np.array([b2])\n",
        "svm_clf1.coef_ = np.array([w1])\n",
        "svm_clf2.coef_ = np.array([w2])\n",
        "\n",
        "# Find support vectors (LinearSVC does not do this automatically)\n",
        "t = y * 2 - 1\n",
        "support_vectors_idx1 = (t * (X.dot(w1) + b1) < 1).ravel()\n",
        "support_vectors_idx2 = (t * (X.dot(w2) + b2) < 1).ravel()\n",
        "svm_clf1.support_vectors_ = X[support_vectors_idx1]\n",
        "svm_clf2.support_vectors_ = X[support_vectors_idx2]\n",
        "\n",
        "fig, axes = plt.subplots(ncols=2, figsize=(10, 2.7), sharey=True)\n",
        "\n",
        "plt.sca(axes[0])\n",
        "plt.plot(X[:, 0][y==1], X[:, 1][y==1], \"g^\", label=\"Iris virginica\")\n",
        "plt.plot(X[:, 0][y==0], X[:, 1][y==0], \"bs\", label=\"Iris versicolor\")\n",
        "plot_svc_decision_boundary(svm_clf1, 4, 5.9)\n",
        "plt.xlabel(\"Petal length\")\n",
        "plt.ylabel(\"Petal width\")\n",
        "plt.legend(loc=\"upper left\")\n",
        "plt.title(f\"$C = {svm_clf1.C}$\")\n",
        "plt.axis([4, 5.9, 0.8, 2.8])\n",
        "plt.grid()\n",
        "\n",
        "plt.sca(axes[1])\n",
        "plt.plot(X[:, 0][y==1], X[:, 1][y==1], \"g^\")\n",
        "plt.plot(X[:, 0][y==0], X[:, 1][y==0], \"bs\")\n",
        "plot_svc_decision_boundary(svm_clf2, 4, 5.99)\n",
        "plt.xlabel(\"Petal length\")\n",
        "plt.title(f\"$C = {svm_clf2.C}$\")\n",
        "plt.axis([4, 5.9, 0.8, 2.8])\n",
        "plt.grid()\n",
        "\n",
        "plt.show()"
      ],
      "metadata": {
        "id": "trGG8pCIu3c1",
        "colab": {
          "base_uri": "https://localhost:8080/",
          "height": 230
        },
        "outputId": "5c3b8091-54d3-4997-82c6-9b23ac2b082d"
      },
      "execution_count": null,
      "outputs": [
        {
          "output_type": "display_data",
          "data": {
            "text/plain": [
              "<Figure size 720x194.4 with 2 Axes>"
            ],
            "image/png": "[encoded data removed]"
          },
          "metadata": {
            "needs_background": "light"
          }
        }
      ]
    },
    {
      "cell_type": "markdown",
      "source": [
        "# **Nonlinear SVM Classification**"
      ],
      "metadata": {
        "id": "E3FJH0fvf1zQ"
      }
    },
    {
      "cell_type": "markdown",
      "source": [
        "Although linear SVM classifiers are efficient and work surprisingly well in many\n",
        "cases, many datasets are not even close to being linearly separable. One approach to\n",
        "handling nonlinear datasets is to add more features, such as polynomial features; in some cases this can result in a linearly separable dataset."
      ],
      "metadata": {
        "id": "iUEXI1xEf7_B"
      }
    },
    {
      "cell_type": "code",
      "source": [
        "from sklearn.datasets import make_moons\n",
        "from sklearn.preprocessing import PolynomialFeatures\n",
        "\n",
        "X, y = make_moons(n_samples=100, noise=0.15, random_state=42)\n",
        "\n",
        "polynomial_svm_clf = make_pipeline(\n",
        "    PolynomialFeatures(degree=3),\n",
        "    StandardScaler(),\n",
        "    LinearSVC(C=10, max_iter=10_000, random_state=42)\n",
        ")\n",
        "polynomial_svm_clf.fit(X, y)"
      ],
      "metadata": {
        "colab": {
          "base_uri": "https://localhost:8080/"
        },
        "id": "fRP6EsuUYtez",
        "outputId": "b462ec84-f8dd-4331-94a5-6a9048af541e"
      },
      "execution_count": null,
      "outputs": [
        {
          "output_type": "execute_result",
          "data": {
            "text/plain": [
              "Pipeline(steps=[('polynomialfeatures', PolynomialFeatures(degree=3)),\n",
              "                ('standardscaler', StandardScaler()),\n",
              "                ('linearsvc',\n",
              "                 LinearSVC(C=10, max_iter=10000, random_state=42))])"
            ]
          },
          "metadata": {},
          "execution_count": 6
        }
      ]
    },
    {
      "cell_type": "code",
      "source": [
        "# extra code – this cell generates and saves Figure 5–6\n",
        "\n",
        "def plot_dataset(X, y, axes):\n",
        "    plt.plot(X[:, 0][y==0], X[:, 1][y==0], \"bs\")\n",
        "    plt.plot(X[:, 0][y==1], X[:, 1][y==1], \"g^\")\n",
        "    plt.axis(axes)\n",
        "    plt.grid(True, which='both')\n",
        "    plt.xlabel(r\"$x_1$\")\n",
        "    plt.ylabel(r\"$x_2$\", rotation=0)\n",
        "\n",
        "def plot_predictions(clf, axes):\n",
        "    x0s = np.linspace(axes[0], axes[1], 100)\n",
        "    x1s = np.linspace(axes[2], axes[3], 100)\n",
        "    x0, x1 = np.meshgrid(x0s, x1s)\n",
        "    X = np.c_[x0.ravel(), x1.ravel()]\n",
        "    y_pred = clf.predict(X).reshape(x0.shape)\n",
        "    y_decision = clf.decision_function(X).reshape(x0.shape)\n",
        "    plt.contourf(x0, x1, y_pred, cmap=plt.cm.brg, alpha=0.2)\n",
        "    plt.contourf(x0, x1, y_decision, cmap=plt.cm.brg, alpha=0.1)\n",
        "\n",
        "plot_predictions(polynomial_svm_clf, [-1.5, 2.5, -1, 1.5])\n",
        "plot_dataset(X, y, [-1.5, 2.5, -1, 1.5])\n",
        "\n",
        "plt.show()"
      ],
      "metadata": {
        "colab": {
          "base_uri": "https://localhost:8080/",
          "height": 288
        },
        "id": "z8OuK_xigEh3",
        "outputId": "3816a32b-1547-44db-aeb1-70a6ec149c52"
      },
      "execution_count": null,
      "outputs": [
        {
          "output_type": "display_data",
          "data": {
            "text/plain": [
              "<Figure size 432x288 with 1 Axes>"
            ],
            "image/png": "[encoded data removed]"
          },
          "metadata": {
            "needs_background": "light"
          }
        }
      ]
    },
    {
      "cell_type": "markdown",
      "source": [
        "## Polynomial Kernel"
      ],
      "metadata": {
        "id": "8Hi3ESDrgMR-"
      }
    },
    {
      "cell_type": "markdown",
      "source": [
        "Adding polynomial features is simple to implement and can work great with all sorts\n",
        "of Machine Learning algorithms (not just SVMs). That said, at a low polynomial\n",
        "degree, this method cannot deal with very complex datasets, and with a high polynomial\n",
        "degree it creates a huge number of features, making the model too slow.\n",
        "\n",
        "\n",
        "Fortunately, when using SVMs you can apply an almost miraculous mathematical\n",
        "technique called the kernel trick (explained in a moment). The kernel trick makes it\n",
        "possible to get the same result as if you had added many polynomial features, even\n",
        "with very high-degree polynomials, without actually having to add them. So there is\n",
        "no combinatorial explosion of the number of features because you don’t actually add\n",
        "any features. This trick is implemented by the SVC class. Let’s test it on the moons\n",
        "dataset:"
      ],
      "metadata": {
        "id": "HVEpOLQDgQHc"
      }
    },
    {
      "cell_type": "code",
      "source": [
        "from sklearn.svm import SVC\n",
        "\n",
        "poly_kernel_svm_clf = make_pipeline(StandardScaler(),\n",
        "                                    SVC(kernel=\"poly\", degree=3, coef0=1, C=5))\n",
        "poly_kernel_svm_clf.fit(X, y)"
      ],
      "metadata": {
        "colab": {
          "base_uri": "https://localhost:8080/"
        },
        "id": "a6WzgjjRgGaa",
        "outputId": "8a6e4ee1-0734-4c20-f067-d27467c6dbc5"
      },
      "execution_count": null,
      "outputs": [
        {
          "output_type": "execute_result",
          "data": {
            "text/plain": [
              "Pipeline(steps=[('standardscaler', StandardScaler()),\n",
              "                ('svc', SVC(C=5, coef0=1, kernel='poly'))])"
            ]
          },
          "metadata": {},
          "execution_count": 8
        }
      ]
    },
    {
      "cell_type": "code",
      "source": [
        "poly100_kernel_svm_clf = make_pipeline(\n",
        "    StandardScaler(),\n",
        "    SVC(kernel=\"poly\", degree=10, coef0=100, C=5)\n",
        ")\n",
        "poly100_kernel_svm_clf.fit(X, y)\n",
        "\n",
        "fig, axes = plt.subplots(ncols=2, figsize=(10.5, 4), sharey=True)\n",
        "\n",
        "plt.sca(axes[0])\n",
        "plot_predictions(poly_kernel_svm_clf, [-1.5, 2.45, -1, 1.5])\n",
        "plot_dataset(X, y, [-1.5, 2.4, -1, 1.5])\n",
        "plt.title(r\"$d=3, r=1, C=5$\")\n",
        "\n",
        "plt.sca(axes[1])\n",
        "plot_predictions(poly100_kernel_svm_clf, [-1.5, 2.45, -1, 1.5])\n",
        "plot_dataset(X, y, [-1.5, 2.4, -1, 1.5])\n",
        "plt.title(r\"$d=10, r=100, C=5$\")\n",
        "plt.ylabel(\"\")\n",
        "\n",
        "plt.show()"
      ],
      "metadata": {
        "colab": {
          "base_uri": "https://localhost:8080/",
          "height": 303
        },
        "id": "HE4Zho7MgS6h",
        "outputId": "96bc1d11-78f5-4292-a954-36e92fd551c0"
      },
      "execution_count": null,
      "outputs": [
        {
          "output_type": "display_data",
          "data": {
            "text/plain": [
              "<Figure size 756x288 with 2 Axes>"
            ],
            "image/png": "[encoded data removed]"
          },
          "metadata": {
            "needs_background": "light"
          }
        }
      ]
    },
    {
      "cell_type": "markdown",
      "source": [
        "## Gaussian RBF Kernel"
      ],
      "metadata": {
        "id": "s-bUqScogYxJ"
      }
    },
    {
      "cell_type": "markdown",
      "source": [
        "Another technique to tackle nonlinear problems is to add features computed using a\n",
        "similarity function, which measures how much each instance resembles a particular\n",
        "landmark"
      ],
      "metadata": {
        "id": "dCNZP4yegcRJ"
      }
    },
    {
      "cell_type": "code",
      "source": [
        "rbf_kernel_svm_clf = make_pipeline(StandardScaler(),\n",
        "                                   SVC(kernel=\"rbf\", gamma=5, C=0.001))\n",
        "rbf_kernel_svm_clf.fit(X, y)"
      ],
      "metadata": {
        "colab": {
          "base_uri": "https://localhost:8080/"
        },
        "id": "DQ4q3644gV3Q",
        "outputId": "13ee0d7a-5e75-4131-b77a-d84c507ac465"
      },
      "execution_count": null,
      "outputs": [
        {
          "output_type": "execute_result",
          "data": {
            "text/plain": [
              "Pipeline(steps=[('standardscaler', StandardScaler()),\n",
              "                ('svc', SVC(C=0.001, gamma=5))])"
            ]
          },
          "metadata": {},
          "execution_count": 10
        }
      ]
    },
    {
      "cell_type": "code",
      "source": [
        "from sklearn.svm import SVC\n",
        "\n",
        "gamma1, gamma2 = 0.1, 5\n",
        "C1, C2 = 0.001, 1000\n",
        "hyperparams = (gamma1, C1), (gamma1, C2), (gamma2, C1), (gamma2, C2)\n",
        "\n",
        "svm_clfs = []\n",
        "for gamma, C in hyperparams:\n",
        "    rbf_kernel_svm_clf = make_pipeline(\n",
        "        StandardScaler(),\n",
        "        SVC(kernel=\"rbf\", gamma=gamma, C=C)\n",
        "    )\n",
        "    rbf_kernel_svm_clf.fit(X, y)\n",
        "    svm_clfs.append(rbf_kernel_svm_clf)\n",
        "\n",
        "fig, axes = plt.subplots(nrows=2, ncols=2, figsize=(10.5, 7), sharex=True, sharey=True)\n",
        "\n",
        "for i, svm_clf in enumerate(svm_clfs):\n",
        "    plt.sca(axes[i // 2, i % 2])\n",
        "    plot_predictions(svm_clf, [-1.5, 2.45, -1, 1.5])\n",
        "    plot_dataset(X, y, [-1.5, 2.45, -1, 1.5])\n",
        "    gamma, C = hyperparams[i]\n",
        "    plt.title(fr\"$\\gamma = {gamma}, C = {C}$\")\n",
        "    if i in (0, 1):\n",
        "        plt.xlabel(\"\")\n",
        "    if i in (1, 3):\n",
        "        plt.ylabel(\"\")\n",
        "\n",
        "plt.show()"
      ],
      "metadata": {
        "colab": {
          "base_uri": "https://localhost:8080/",
          "height": 465
        },
        "id": "q2Zge2lpgnxR",
        "outputId": "79d8c224-ffc9-45f9-cf12-ffdf8b0935ee"
      },
      "execution_count": null,
      "outputs": [
        {
          "output_type": "display_data",
          "data": {
            "text/plain": [
              "<Figure size 756x504 with 4 Axes>"
            ],
            "image/png": "[encoded data removed]"
          },
          "metadata": {
            "needs_background": "light"
          }
        }
      ]
    },
    {
      "cell_type": "markdown",
      "source": [
        "# **SVM Regression**"
      ],
      "metadata": {
        "id": "RmqcyWPcgut-"
      }
    },
    {
      "cell_type": "code",
      "source": [
        "from sklearn.svm import LinearSVR\n",
        "\n",
        "# extra code – these 3 lines generate a simple linear dataset\n",
        "np.random.seed(42)\n",
        "X = 2 * np.random.rand(50, 1)   # 50 x 1 column vector\n",
        "y = 4 + 3 * X[:, 0] + np.random.randn(50) # 1 x 50 row vector\n",
        "\n",
        "svm_reg = make_pipeline(StandardScaler(),\n",
        "                        LinearSVR(epsilon=0.5, random_state=42))\n",
        "svm_reg.fit(X, y)"
      ],
      "metadata": {
        "colab": {
          "base_uri": "https://localhost:8080/"
        },
        "id": "dCPTGurigrWh",
        "outputId": "5a381946-5e00-4ed1-be96-eda448c02d17"
      },
      "execution_count": null,
      "outputs": [
        {
          "output_type": "execute_result",
          "data": {
            "text/plain": [
              "Pipeline(steps=[('standardscaler', StandardScaler()),\n",
              "                ('linearsvr', LinearSVR(epsilon=0.5, random_state=42))])"
            ]
          },
          "metadata": {},
          "execution_count": 12
        }
      ]
    },
    {
      "cell_type": "code",
      "source": [
        "def find_support_vectors(svm_reg, X, y):\n",
        "    y_pred = svm_reg.predict(X)\n",
        "    epsilon = svm_reg[-1].epsilon\n",
        "    off_margin = np.abs(y - y_pred) >= epsilon\n",
        "    return np.argwhere(off_margin)\n",
        "\n",
        "def plot_svm_regression(svm_reg, X, y, axes):\n",
        "    x1s = np.linspace(axes[0], axes[1], 100).reshape(100, 1)\n",
        "    y_pred = svm_reg.predict(x1s)\n",
        "    epsilon = svm_reg[-1].epsilon\n",
        "    plt.plot(x1s, y_pred, \"k-\", linewidth=2, label=r\"$\\hat{y}$\", zorder=-2)\n",
        "    plt.plot(x1s, y_pred + epsilon, \"k--\", zorder=-2)\n",
        "    plt.plot(x1s, y_pred - epsilon, \"k--\", zorder=-2)\n",
        "    plt.scatter(X[svm_reg._support], y[svm_reg._support], s=180,\n",
        "                facecolors='#AAA', zorder=-1)\n",
        "    plt.plot(X, y, \"bo\")\n",
        "    plt.xlabel(r\"$x_1$\")\n",
        "    plt.legend(loc=\"upper left\")\n",
        "    plt.axis(axes)\n",
        "\n",
        "svm_reg2 = make_pipeline(StandardScaler(),\n",
        "                         LinearSVR(epsilon=1.2, random_state=42))\n",
        "svm_reg2.fit(X, y)\n",
        "\n",
        "svm_reg._support = find_support_vectors(svm_reg, X, y)\n",
        "svm_reg2._support = find_support_vectors(svm_reg2, X, y)\n",
        "\n",
        "eps_x1 = 1\n",
        "eps_y_pred = svm_reg2.predict([[eps_x1]])\n",
        "\n",
        "fig, axes = plt.subplots(ncols=2, figsize=(9, 4), sharey=True)\n",
        "plt.sca(axes[0])\n",
        "plot_svm_regression(svm_reg, X, y, [0, 2, 3, 11])\n",
        "plt.title(fr\"$\\epsilon = {svm_reg[-1].epsilon}$\")\n",
        "plt.ylabel(r\"$y$\", rotation=0)\n",
        "plt.grid()\n",
        "plt.sca(axes[1])\n",
        "plot_svm_regression(svm_reg2, X, y, [0, 2, 3, 11])\n",
        "plt.title(fr\"$\\epsilon = {svm_reg2[-1].epsilon}$\")\n",
        "plt.annotate(\n",
        "        '', xy=(eps_x1, eps_y_pred), xycoords='data',\n",
        "        xytext=(eps_x1, eps_y_pred - svm_reg2[-1].epsilon),\n",
        "        textcoords='data', arrowprops={'arrowstyle': '<->', 'linewidth': 1.5}\n",
        "    )\n",
        "plt.text(0.90, 5.4, r\"$\\epsilon$\", fontsize=16)\n",
        "plt.grid()\n",
        "\n",
        "plt.show()"
      ],
      "metadata": {
        "colab": {
          "base_uri": "https://localhost:8080/",
          "height": 301
        },
        "id": "r2DTFk4sli7A",
        "outputId": "123ea45b-c6ff-491c-f19a-6f14e74ecb0c"
      },
      "execution_count": null,
      "outputs": [
        {
          "output_type": "display_data",
          "data": {
            "text/plain": [
              "<Figure size 648x288 with 2 Axes>"
            ],
            "image/png": "[encoded data removed]"
          },
          "metadata": {
            "needs_background": "light"
          }
        }
      ]
    },
    {
      "cell_type": "markdown",
      "source": [
        "# **Applications**"
      ],
      "metadata": {
        "id": "3Mzc8ncbLlsH"
      }
    },
    {
      "cell_type": "markdown",
      "source": [
        "## Linear Data Classifier"
      ],
      "metadata": {
        "id": "cBS8CLJgHg0x"
      }
    },
    {
      "cell_type": "markdown",
      "source": [
        "_Exercise: Train a `LinearSVC` on a linearly separable dataset. Then train an `SVC` and a `SGDClassifier` on the same dataset. See if you can get them to produce roughly the same model._"
      ],
      "metadata": {
        "id": "fm_3oTOLHYWc"
      }
    },
    {
      "cell_type": "markdown",
      "source": [
        "Let's use the Iris dataset: the Iris Setosa and Iris Versicolor classes are linearly separable."
      ],
      "metadata": {
        "id": "1LYqd00IHlRM"
      }
    },
    {
      "cell_type": "code",
      "source": [
        "from sklearn import datasets\n",
        "\n",
        "iris = datasets.load_iris(as_frame=True)\n",
        "X = iris.data[[\"petal length (cm)\", \"petal width (cm)\"]].values\n",
        "y = iris.target\n",
        "\n",
        "setosa_or_versicolor = (y == 0) | (y == 1)\n",
        "X = X[setosa_or_versicolor]\n",
        "y = y[setosa_or_versicolor]"
      ],
      "metadata": {
        "id": "10dFzRCaloU6"
      },
      "execution_count": null,
      "outputs": []
    },
    {
      "cell_type": "markdown",
      "source": [
        "Now let's build and train 3 models:\n",
        "* Remember that `LinearSVC` uses `loss=\"squared_hinge\"` by default, so if we want all 3 models to produce similar results, we need to set `loss=\"hinge\"`.\n",
        "* Also, the `SVC` class uses an RBF kernel by default, so we need to set `kernel=\"linear\"` to get similar results as the other two models.\n",
        "* Lastly, the `SGDClassifier` class does not have a `C` hyperparameter, but it has another regularization hyperparameter called `alpha`, so we can tweak it to get similar results as the other two models."
      ],
      "metadata": {
        "id": "d28koR6OIMIE"
      }
    },
    {
      "cell_type": "code",
      "source": [
        "from sklearn.svm import SVC, LinearSVC\n",
        "from sklearn.linear_model import SGDClassifier\n",
        "from sklearn.preprocessing import StandardScaler\n",
        "\n",
        "C = 5\n",
        "alpha = 0.05\n",
        "\n",
        "scaler = StandardScaler()\n",
        "X_scaled = scaler.fit_transform(X)\n",
        "\n",
        "lin_clf = LinearSVC(loss=\"hinge\", C=C, random_state=42).fit(X_scaled, y)\n",
        "svc_clf = SVC(kernel=\"linear\", C=C).fit(X_scaled, y)\n",
        "sgd_clf = SGDClassifier(alpha=alpha, random_state=42).fit(X_scaled, y)"
      ],
      "metadata": {
        "id": "2ybOs1IHIHpx"
      },
      "execution_count": null,
      "outputs": []
    },
    {
      "cell_type": "markdown",
      "source": [
        "Let's plot the decision boundaries of these three models:"
      ],
      "metadata": {
        "id": "LqV-Ax3_I7-2"
      }
    },
    {
      "cell_type": "code",
      "source": [
        "def compute_decision_boundary(model):\n",
        "    w = -model.coef_[0, 0] / model.coef_[0, 1]\n",
        "    b = -model.intercept_[0] / model.coef_[0, 1]\n",
        "    return scaler.inverse_transform([[-10, -10 * w + b], [10, 10 * w + b]])\n",
        "\n",
        "lin_line = compute_decision_boundary(lin_clf)\n",
        "svc_line = compute_decision_boundary(svc_clf)\n",
        "sgd_line = compute_decision_boundary(sgd_clf)\n",
        "\n",
        "# Plot all three decision boundaries\n",
        "plt.figure(figsize=(11, 4))\n",
        "plt.plot(lin_line[:, 0], lin_line[:, 1], \"k:\", label=\"LinearSVC\")\n",
        "plt.plot(svc_line[:, 0], svc_line[:, 1], \"b--\", linewidth=2, label=\"SVC\")\n",
        "plt.plot(sgd_line[:, 0], sgd_line[:, 1], \"r-\", label=\"SGDClassifier\")\n",
        "plt.plot(X[:, 0][y==1], X[:, 1][y==1], \"bs\") # label=\"Iris versicolor\"\n",
        "plt.plot(X[:, 0][y==0], X[:, 1][y==0], \"yo\") # label=\"Iris setosa\"\n",
        "plt.xlabel(\"Petal length\")\n",
        "plt.ylabel(\"Petal width\")\n",
        "plt.legend(loc=\"upper center\")\n",
        "plt.axis([0, 5.5, 0, 2])\n",
        "plt.grid()\n",
        "\n",
        "plt.show()"
      ],
      "metadata": {
        "colab": {
          "base_uri": "https://localhost:8080/",
          "height": 287
        },
        "id": "paXHlsL-I54o",
        "outputId": "364de744-7f7b-4f11-81ee-d5aaa4d19f44"
      },
      "execution_count": null,
      "outputs": [
        {
          "output_type": "display_data",
          "data": {
            "text/plain": [
              "<Figure size 792x288 with 1 Axes>"
            ],
            "image/png": "[encoded data removed]"
          },
          "metadata": {
            "needs_background": "light"
          }
        }
      ]
    },
    {
      "cell_type": "markdown",
      "source": [
        "Close enough!"
      ],
      "metadata": {
        "id": "CHv7QwrGJH8J"
      }
    },
    {
      "cell_type": "markdown",
      "source": [
        "## Multiclass Classification"
      ],
      "metadata": {
        "id": "VR7kjAoXJRIR"
      }
    },
    {
      "cell_type": "markdown",
      "source": [
        "_Exercise: Train an SVM classifier on the Wine dataset, which you can load using `sklearn.datasets.load_wine()`. This dataset contains the chemical analysis of 178 wine samples produced by 3 different cultivators: the goal is to train a classification model capable of predicting the cultivator based on the wine's chemical analysis. Since SVM classifiers are binary classifiers, you will need to use one-versus-all to classify all 3 classes. What accuracy can you reach?_"
      ],
      "metadata": {
        "id": "2DmnIl9hJWv4"
      }
    },
    {
      "cell_type": "code",
      "source": [
        "from sklearn.datasets import load_wine\n",
        "\n",
        "wine = load_wine(as_frame=True)"
      ],
      "metadata": {
        "id": "gz1zkqsyJEIX"
      },
      "execution_count": null,
      "outputs": []
    },
    {
      "cell_type": "code",
      "source": [
        "print(wine.DESCR)"
      ],
      "metadata": {
        "colab": {
          "base_uri": "https://localhost:8080/"
        },
        "id": "zS0NQRAsJ5WR",
        "outputId": "ae093680-2af3-494e-b47a-4a608a2309ff"
      },
      "execution_count": null,
      "outputs": [
        {
          "output_type": "stream",
          "name": "stdout",
          "text": [
            ".. _wine_dataset:\n",
            "\n",
            "Wine recognition dataset\n",
            "------------------------\n",
            "\n",
            "**Data Set Characteristics:**\n",
            "\n",
            "    :Number of Instances: 178 (50 in each of three classes)\n",
            "    :Number of Attributes: 13 numeric, predictive attributes and the class\n",
            "    :Attribute Information:\n",
            " \t\t- Alcohol\n",
            " \t\t- Malic acid\n",
            " \t\t- Ash\n",
            "\t\t- Alcalinity of ash  \n",
            " \t\t- Magnesium\n",
            "\t\t- Total phenols\n",
            " \t\t- Flavanoids\n",
            " \t\t- Nonflavanoid phenols\n",
            " \t\t- Proanthocyanins\n",
            "\t\t- Color intensity\n",
            " \t\t- Hue\n",
            " \t\t- OD280/OD315 of diluted wines\n",
            " \t\t- Proline\n",
            "\n",
            "    - class:\n",
            "            - class_0\n",
            "            - class_1\n",
            "            - class_2\n",
            "\t\t\n",
            "    :Summary Statistics:\n",
            "    \n",
            "    ============================= ==== ===== ======= =====\n",
            "                                   Min   Max   Mean     SD\n",
            "    ============================= ==== ===== ======= =====\n",
            "    Alcohol:                      11.0  14.8    13.0   0.8\n",
            "    Malic Acid:                   0.74  5.80    2.34  1.12\n",
            "    Ash:                          1.36  3.23    2.36  0.27\n",
            "    Alcalinity of Ash:            10.6  30.0    19.5   3.3\n",
            "    Magnesium:                    70.0 162.0    99.7  14.3\n",
            "    Total Phenols:                0.98  3.88    2.29  0.63\n",
            "    Flavanoids:                   0.34  5.08    2.03  1.00\n",
            "    Nonflavanoid Phenols:         0.13  0.66    0.36  0.12\n",
            "    Proanthocyanins:              0.41  3.58    1.59  0.57\n",
            "    Colour Intensity:              1.3  13.0     5.1   2.3\n",
            "    Hue:                          0.48  1.71    0.96  0.23\n",
            "    OD280/OD315 of diluted wines: 1.27  4.00    2.61  0.71\n",
            "    Proline:                       278  1680     746   315\n",
            "    ============================= ==== ===== ======= =====\n",
            "\n",
            "    :Missing Attribute Values: None\n",
            "    :Class Distribution: class_0 (59), class_1 (71), class_2 (48)\n",
            "    :Creator: R.A. Fisher\n",
            "    :Donor: Michael Marshall (MARSHALL%PLU@io.arc.nasa.gov)\n",
            "    :Date: July, 1988\n",
            "\n",
            "This is a copy of UCI ML Wine recognition datasets.\n",
            "https://archive.ics.uci.edu/ml/machine-learning-databases/wine/wine.data\n",
            "\n",
            "The data is the results of a chemical analysis of wines grown in the same\n",
            "region in Italy by three different cultivators. There are thirteen different\n",
            "measurements taken for different constituents found in the three types of\n",
            "wine.\n",
            "\n",
            "Original Owners: \n",
            "\n",
            "Forina, M. et al, PARVUS - \n",
            "An Extendible Package for Data Exploration, Classification and Correlation. \n",
            "Institute of Pharmaceutical and Food Analysis and Technologies,\n",
            "Via Brigata Salerno, 16147 Genoa, Italy.\n",
            "\n",
            "Citation:\n",
            "\n",
            "Lichman, M. (2013). UCI Machine Learning Repository\n",
            "[https://archive.ics.uci.edu/ml]. Irvine, CA: University of California,\n",
            "School of Information and Computer Science. \n",
            "\n",
            ".. topic:: References\n",
            "\n",
            "  (1) S. Aeberhard, D. Coomans and O. de Vel, \n",
            "  Comparison of Classifiers in High Dimensional Settings, \n",
            "  Tech. Rep. no. 92-02, (1992), Dept. of Computer Science and Dept. of  \n",
            "  Mathematics and Statistics, James Cook University of North Queensland. \n",
            "  (Also submitted to Technometrics). \n",
            "\n",
            "  The data was used with many others for comparing various \n",
            "  classifiers. The classes are separable, though only RDA \n",
            "  has achieved 100% correct classification. \n",
            "  (RDA : 100%, QDA 99.4%, LDA 98.9%, 1NN 96.1% (z-transformed data)) \n",
            "  (All results using the leave-one-out technique) \n",
            "\n",
            "  (2) S. Aeberhard, D. Coomans and O. de Vel, \n",
            "  \"THE CLASSIFICATION PERFORMANCE OF RDA\" \n",
            "  Tech. Rep. no. 92-01, (1992), Dept. of Computer Science and Dept. of \n",
            "  Mathematics and Statistics, James Cook University of North Queensland. \n",
            "  (Also submitted to Journal of Chemometrics).\n",
            "\n"
          ]
        }
      ]
    },
    {
      "cell_type": "code",
      "source": [
        "from sklearn.model_selection import train_test_split\n",
        "\n",
        "X_train, X_test, y_train, y_test = train_test_split(\n",
        "    wine.data, wine.target, random_state=42)"
      ],
      "metadata": {
        "id": "kmAmkJorJ8D4"
      },
      "execution_count": null,
      "outputs": []
    },
    {
      "cell_type": "code",
      "source": [
        "X_train.head()"
      ],
      "metadata": {
        "colab": {
          "base_uri": "https://localhost:8080/",
          "height": 270
        },
        "id": "xDpfyrL7KTQp",
        "outputId": "a0e55cea-a69f-4123-d595-5933c74f7c9d"
      },
      "execution_count": null,
      "outputs": [
        {
          "output_type": "execute_result",
          "data": {
            "text/plain": [
              "     alcohol  malic_acid   ash  alcalinity_of_ash  magnesium  total_phenols  \\\n",
              "2      13.16        2.36  2.67               18.6      101.0           2.80   \n",
              "100    12.08        2.08  1.70               17.5       97.0           2.23   \n",
              "122    12.42        4.43  2.73               26.5      102.0           2.20   \n",
              "154    12.58        1.29  2.10               20.0      103.0           1.48   \n",
              "51     13.83        1.65  2.60               17.2       94.0           2.45   \n",
              "\n",
              "     flavanoids  nonflavanoid_phenols  proanthocyanins  color_intensity   hue  \\\n",
              "2          3.24                  0.30             2.81             5.68  1.03   \n",
              "100        2.17                  0.26             1.40             3.30  1.27   \n",
              "122        2.13                  0.43             1.71             2.08  0.92   \n",
              "154        0.58                  0.53             1.40             7.60  0.58   \n",
              "51         2.99                  0.22             2.29             5.60  1.24   \n",
              "\n",
              "     od280/od315_of_diluted_wines  proline  \n",
              "2                            3.17   1185.0  \n",
              "100                          2.96    710.0  \n",
              "122                          3.12    365.0  \n",
              "154                          1.55    640.0  \n",
              "51                           3.37   1265.0  "
            ],
            "text/html": [
              "\n",
              "  <div id=\"df-ea9c13a8-4db8-408d-98f5-420dfadf2b29\">\n",
              "    <div class=\"colab-df-container\">\n",
              "      <div>\n",
              "<style scoped>\n",
              "    .dataframe tbody tr th:only-of-type {\n",
              "        vertical-align: middle;\n",
              "    }\n",
              "\n",
              "    .dataframe tbody tr th {\n",
              "        vertical-align: top;\n",
              "    }\n",
              "\n",
              "    .dataframe thead th {\n",
              "        text-align: right;\n",
              "    }\n",
              "</style>\n",
              "<table border=\"1\" class=\"dataframe\">\n",
              "  <thead>\n",
              "    <tr style=\"text-align: right;\">\n",
              "      <th></th>\n",
              "      <th>alcohol</th>\n",
              "      <th>malic_acid</th>\n",
              "      <th>ash</th>\n",
              "      <th>alcalinity_of_ash</th>\n",
              "      <th>magnesium</th>\n",
              "      <th>total_phenols</th>\n",
              "      <th>flavanoids</th>\n",
              "      <th>nonflavanoid_phenols</th>\n",
              "      <th>proanthocyanins</th>\n",
              "      <th>color_intensity</th>\n",
              "      <th>hue</th>\n",
              "      <th>od280/od315_of_diluted_wines</th>\n",
              "      <th>proline</th>\n",
              "    </tr>\n",
              "  </thead>\n",
              "  <tbody>\n",
              "    <tr>\n",
              "      <th>2</th>\n",
              "      <td>13.16</td>\n",
              "      <td>2.36</td>\n",
              "      <td>2.67</td>\n",
              "      <td>18.6</td>\n",
              "      <td>101.0</td>\n",
              "      <td>2.80</td>\n",
              "      <td>3.24</td>\n",
              "      <td>0.30</td>\n",
              "      <td>2.81</td>\n",
              "      <td>5.68</td>\n",
              "      <td>1.03</td>\n",
              "      <td>3.17</td>\n",
              "      <td>1185.0</td>\n",
              "    </tr>\n",
              "    <tr>\n",
              "      <th>100</th>\n",
              "      <td>12.08</td>\n",
              "      <td>2.08</td>\n",
              "      <td>1.70</td>\n",
              "      <td>17.5</td>\n",
              "      <td>97.0</td>\n",
              "      <td>2.23</td>\n",
              "      <td>2.17</td>\n",
              "      <td>0.26</td>\n",
              "      <td>1.40</td>\n",
              "      <td>3.30</td>\n",
              "      <td>1.27</td>\n",
              "      <td>2.96</td>\n",
              "      <td>710.0</td>\n",
              "    </tr>\n",
              "    <tr>\n",
              "      <th>122</th>\n",
              "      <td>12.42</td>\n",
              "      <td>4.43</td>\n",
              "      <td>2.73</td>\n",
              "      <td>26.5</td>\n",
              "      <td>102.0</td>\n",
              "      <td>2.20</td>\n",
              "      <td>2.13</td>\n",
              "      <td>0.43</td>\n",
              "      <td>1.71</td>\n",
              "      <td>2.08</td>\n",
              "      <td>0.92</td>\n",
              "      <td>3.12</td>\n",
              "      <td>365.0</td>\n",
              "    </tr>\n",
              "    <tr>\n",
              "      <th>154</th>\n",
              "      <td>12.58</td>\n",
              "      <td>1.29</td>\n",
              "      <td>2.10</td>\n",
              "      <td>20.0</td>\n",
              "      <td>103.0</td>\n",
              "      <td>1.48</td>\n",
              "      <td>0.58</td>\n",
              "      <td>0.53</td>\n",
              "      <td>1.40</td>\n",
              "      <td>7.60</td>\n",
              "      <td>0.58</td>\n",
              "      <td>1.55</td>\n",
              "      <td>640.0</td>\n",
              "    </tr>\n",
              "    <tr>\n",
              "      <th>51</th>\n",
              "      <td>13.83</td>\n",
              "      <td>1.65</td>\n",
              "      <td>2.60</td>\n",
              "      <td>17.2</td>\n",
              "      <td>94.0</td>\n",
              "      <td>2.45</td>\n",
              "      <td>2.99</td>\n",
              "      <td>0.22</td>\n",
              "      <td>2.29</td>\n",
              "      <td>5.60</td>\n",
              "      <td>1.24</td>\n",
              "      <td>3.37</td>\n",
              "      <td>1265.0</td>\n",
              "    </tr>\n",
              "  </tbody>\n",
              "</table>\n",
              "</div>\n",
              "      <button class=\"colab-df-convert\" onclick=\"convertToInteractive('df-ea9c13a8-4db8-408d-98f5-420dfadf2b29')\"\n",
              "              title=\"Convert this dataframe to an interactive table.\"\n",
              "              style=\"display:none;\">\n",
              "        \n",
              "  <svg xmlns=\"http://www.w3.org/2000/svg\" height=\"24px\"viewBox=\"0 0 24 24\"\n",
              "       width=\"24px\">\n",
              "    <path d=\"M0 0h24v24H0V0z\" fill=\"none\"/>\n",
              "    <path d=\"M18.56 5.44l.94 2.06.94-2.06 2.06-.94-2.06-.94-.94-2.06-.94 2.06-2.06.94zm-11 1L8.5 8.5l.94-2.06 2.06-.94-2.06-.94L8.5 2.5l-.94 2.06-2.06.94zm10 10l.94 2.06.94-2.06 2.06-.94-2.06-.94-.94-2.06-.94 2.06-2.06.94z\"/><path d=\"M17.41 7.96l-1.37-1.37c-.4-.4-.92-.59-1.43-.59-.52 0-1.04.2-1.43.59L10.3 9.45l-7.72 7.72c-.78.78-.78 2.05 0 2.83L4 21.41c.39.39.9.59 1.41.59.51 0 1.02-.2 1.41-.59l7.78-7.78 2.81-2.81c.8-.78.8-2.07 0-2.86zM5.41 20L4 18.59l7.72-7.72 1.47 1.35L5.41 20z\"/>\n",
              "  </svg>\n",
              "      </button>\n",
              "      \n",
              "  <style>\n",
              "    .colab-df-container {\n",
              "      display:flex;\n",
              "      flex-wrap:wrap;\n",
              "      gap: 12px;\n",
              "    }\n",
              "\n",
              "    .colab-df-convert {\n",
              "      background-color: #E8F0FE;\n",
              "      border: none;\n",
              "      border-radius: 50%;\n",
              "      cursor: pointer;\n",
              "      display: none;\n",
              "      fill: #1967D2;\n",
              "      height: 32px;\n",
              "      padding: 0 0 0 0;\n",
              "      width: 32px;\n",
              "    }\n",
              "\n",
              "    .colab-df-convert:hover {\n",
              "      background-color: #E2EBFA;\n",
              "      box-shadow: 0px 1px 2px rgba(60, 64, 67, 0.3), 0px 1px 3px 1px rgba(60, 64, 67, 0.15);\n",
              "      fill: #174EA6;\n",
              "    }\n",
              "\n",
              "    [theme=dark] .colab-df-convert {\n",
              "      background-color: #3B4455;\n",
              "      fill: #D2E3FC;\n",
              "    }\n",
              "\n",
              "    [theme=dark] .colab-df-convert:hover {\n",
              "      background-color: #434B5C;\n",
              "      box-shadow: 0px 1px 3px 1px rgba(0, 0, 0, 0.15);\n",
              "      filter: drop-shadow(0px 1px 2px rgba(0, 0, 0, 0.3));\n",
              "      fill: #FFFFFF;\n",
              "    }\n",
              "  </style>\n",
              "\n",
              "      <script>\n",
              "        const buttonEl =\n",
              "          document.querySelector('#df-ea9c13a8-4db8-408d-98f5-420dfadf2b29 button.colab-df-convert');\n",
              "        buttonEl.style.display =\n",
              "          google.colab.kernel.accessAllowed ? 'block' : 'none';\n",
              "\n",
              "        async function convertToInteractive(key) {\n",
              "          const element = document.querySelector('#df-ea9c13a8-4db8-408d-98f5-420dfadf2b29');\n",
              "          const dataTable =\n",
              "            await google.colab.kernel.invokeFunction('convertToInteractive',\n",
              "                                                     [key], {});\n",
              "          if (!dataTable) return;\n",
              "\n",
              "          const docLinkHtml = 'Like what you see? Visit the ' +\n",
              "            '<a target=\"_blank\" href=https://colab.research.google.com/notebooks/data_table.ipynb>data table notebook</a>'\n",
              "            + ' to learn more about interactive tables.';\n",
              "          element.innerHTML = '';\n",
              "          dataTable['output_type'] = 'display_data';\n",
              "          await google.colab.output.renderOutput(dataTable, element);\n",
              "          const docLink = document.createElement('div');\n",
              "          docLink.innerHTML = docLinkHtml;\n",
              "          element.appendChild(docLink);\n",
              "        }\n",
              "      </script>\n",
              "    </div>\n",
              "  </div>\n",
              "  "
            ]
          },
          "metadata": {},
          "execution_count": 23
        }
      ]
    },
    {
      "cell_type": "code",
      "source": [
        "y_train.head()"
      ],
      "metadata": {
        "colab": {
          "base_uri": "https://localhost:8080/"
        },
        "id": "Y2GeNE-tKVdg",
        "outputId": "df35d846-5bfe-47c4-c405-96d4638ed109"
      },
      "execution_count": null,
      "outputs": [
        {
          "output_type": "execute_result",
          "data": {
            "text/plain": [
              "2      0\n",
              "100    1\n",
              "122    1\n",
              "154    2\n",
              "51     0\n",
              "Name: target, dtype: int64"
            ]
          },
          "metadata": {},
          "execution_count": 24
        }
      ]
    },
    {
      "cell_type": "markdown",
      "source": [
        "Let's now scale the data. Data scaling is very important fo SVM's:"
      ],
      "metadata": {
        "id": "fBegvJ-aLPEP"
      }
    },
    {
      "cell_type": "markdown",
      "source": [
        "Let's start simple, with a linear SVM classifier. It will automatically use the One-vs-All (also called One-vs-the-Rest, OvR) strategy, so there's nothing special we need to do to handle multiple classes. Easy, right?"
      ],
      "metadata": {
        "id": "QROv7W92LFCc"
      }
    },
    {
      "cell_type": "code",
      "source": [
        "lin_clf = make_pipeline(StandardScaler(),\n",
        "                        LinearSVC(random_state=42))\n",
        "lin_clf.fit(X_train, y_train)"
      ],
      "metadata": {
        "colab": {
          "base_uri": "https://localhost:8080/"
        },
        "id": "ftSbrCX6LY1H",
        "outputId": "7112eabc-489e-4695-bfb3-3a5646546618"
      },
      "execution_count": null,
      "outputs": [
        {
          "output_type": "execute_result",
          "data": {
            "text/plain": [
              "Pipeline(steps=[('standardscaler', StandardScaler()),\n",
              "                ('linearsvc', LinearSVC(random_state=42))])"
            ]
          },
          "metadata": {},
          "execution_count": 29
        }
      ]
    },
    {
      "cell_type": "code",
      "source": [
        "from sklearn.model_selection import cross_val_score\n",
        "\n",
        "cross_val_score(lin_clf, X_train, y_train).mean()"
      ],
      "metadata": {
        "colab": {
          "base_uri": "https://localhost:8080/"
        },
        "id": "dgrRL-PDLMeg",
        "outputId": "718c63c4-bc50-435a-8174-6ce3150aed3e"
      },
      "execution_count": null,
      "outputs": [
        {
          "output_type": "execute_result",
          "data": {
            "text/plain": [
              "0.9774928774928775"
            ]
          },
          "metadata": {},
          "execution_count": 30
        }
      ]
    },
    {
      "cell_type": "markdown",
      "source": [
        "Let's see if a kernelized SVM will do better. We will use a default `SVC` for now:"
      ],
      "metadata": {
        "id": "Ncwo4f0JMQJO"
      }
    },
    {
      "cell_type": "code",
      "source": [
        "svm_clf = make_pipeline(StandardScaler(), SVC(random_state=42))\n",
        "cross_val_score(svm_clf, X_train, y_train).mean()"
      ],
      "metadata": {
        "colab": {
          "base_uri": "https://localhost:8080/"
        },
        "id": "gtAxUbAjMMsn",
        "outputId": "0e08fb76-2d47-47a4-b64e-bfe9e6107a85"
      },
      "execution_count": null,
      "outputs": [
        {
          "output_type": "execute_result",
          "data": {
            "text/plain": [
              "0.9698005698005698"
            ]
          },
          "metadata": {},
          "execution_count": 31
        }
      ]
    },
    {
      "cell_type": "markdown",
      "source": [
        "That's not better, but perhaps we need to do a bit of hyperparameter tuning:"
      ],
      "metadata": {
        "id": "dA_PpgxsMVcO"
      }
    },
    {
      "cell_type": "code",
      "source": [
        "from sklearn.model_selection import RandomizedSearchCV\n",
        "from scipy.stats import reciprocal, uniform\n",
        "\n",
        "param_distrib = {\n",
        "    \"svc__gamma\": reciprocal(0.001, 0.1),\n",
        "    \"svc__C\": uniform(1, 10)\n",
        "}\n",
        "rnd_search_cv = RandomizedSearchCV(svm_clf, param_distrib, n_iter=100, cv=5,\n",
        "                                   random_state=42)\n",
        "rnd_search_cv.fit(X_train, y_train)\n",
        "rnd_search_cv.best_estimator_"
      ],
      "metadata": {
        "colab": {
          "base_uri": "https://localhost:8080/"
        },
        "id": "k3V5px9qMSh9",
        "outputId": "9cb4022b-04ea-452e-b26a-8cef5c735560"
      },
      "execution_count": null,
      "outputs": [
        {
          "output_type": "execute_result",
          "data": {
            "text/plain": [
              "Pipeline(steps=[('standardscaler', StandardScaler()),\n",
              "                ('svc',\n",
              "                 SVC(C=9.925589984899778, gamma=0.011986281799901176,\n",
              "                     random_state=42))])"
            ]
          },
          "metadata": {},
          "execution_count": 32
        }
      ]
    },
    {
      "cell_type": "code",
      "source": [
        "rnd_search_cv.best_score_"
      ],
      "metadata": {
        "colab": {
          "base_uri": "https://localhost:8080/"
        },
        "id": "JFUiJ21rM0jv",
        "outputId": "76c18e9e-f2bf-47e0-9709-a4703c7de0eb"
      },
      "execution_count": null,
      "outputs": [
        {
          "output_type": "execute_result",
          "data": {
            "text/plain": [
              "0.9925925925925926"
            ]
          },
          "metadata": {},
          "execution_count": 34
        }
      ]
    },
    {
      "cell_type": "code",
      "source": [
        "rnd_search_cv.best_params_"
      ],
      "metadata": {
        "colab": {
          "base_uri": "https://localhost:8080/"
        },
        "id": "ZIo4JMnyM2gf",
        "outputId": "a405fbc8-f892-40ba-b572-b571c9c795d8"
      },
      "execution_count": null,
      "outputs": [
        {
          "output_type": "execute_result",
          "data": {
            "text/plain": [
              "{'svc__C': 9.925589984899778, 'svc__gamma': 0.011986281799901176}"
            ]
          },
          "metadata": {},
          "execution_count": 35
        }
      ]
    },
    {
      "cell_type": "code",
      "source": [
        "rnd_search_cv.score(X_test, y_test)"
      ],
      "metadata": {
        "colab": {
          "base_uri": "https://localhost:8080/"
        },
        "id": "Nklcrh2NMfPe",
        "outputId": "ebfaa40a-af68-4c37-ebc8-6b90e25444fe"
      },
      "execution_count": null,
      "outputs": [
        {
          "output_type": "execute_result",
          "data": {
            "text/plain": [
              "0.9777777777777777"
            ]
          },
          "metadata": {},
          "execution_count": 33
        }
      ]
    },
    {
      "cell_type": "markdown",
      "source": [
        "Cool! 😎"
      ],
      "metadata": {
        "id": "R5k9RczzMkoQ"
      }
    },
    {
      "cell_type": "markdown",
      "source": [
        "## SVM Regression"
      ],
      "metadata": {
        "id": "tJMERWpgNEM1"
      }
    },
    {
      "cell_type": "markdown",
      "source": [
        "_Exercise: Train and fine-tune an SVM regressor on the California housing dataset. The dataset can be fetched using `sklearn.datasets.fetch_california_housing()`. The targets represent hundreds of thousands of dollars. Since there are over 20,000 instances, SVMs can be slow, so for hyperparameter tuning you should use much less instances (e.g., 2,000), to test many more hyperparameter combinations. What is your best model's RMSE?_"
      ],
      "metadata": {
        "id": "6tKCx6HENI8F"
      }
    },
    {
      "cell_type": "code",
      "source": [
        "from sklearn.datasets import fetch_california_housing\n",
        "\n",
        "housing = fetch_california_housing()\n",
        "X = housing.data\n",
        "y = housing.target"
      ],
      "metadata": {
        "id": "STB0nFADMkWF"
      },
      "execution_count": null,
      "outputs": []
    },
    {
      "cell_type": "code",
      "source": [
        "from sklearn.model_selection import train_test_split\n",
        "\n",
        "X_train, X_test, y_train, y_test = train_test_split(X, y, test_size=0.2,\n",
        "                                                    random_state=42)"
      ],
      "metadata": {
        "id": "VFu80WVRMjHe"
      },
      "execution_count": null,
      "outputs": []
    },
    {
      "cell_type": "markdown",
      "source": [
        "Let's scale the data before we forget:"
      ],
      "metadata": {
        "id": "tUoG1Cj5NRBs"
      }
    },
    {
      "cell_type": "markdown",
      "source": [
        "Let's train a simple LinearSVR first:"
      ],
      "metadata": {
        "id": "h7Eayr0CNVkw"
      }
    },
    {
      "cell_type": "code",
      "source": [
        "lin_svr = make_pipeline(StandardScaler(),\n",
        "                        LinearSVR(max_iter=5000, random_state=42)\n",
        ")\n",
        "lin_svr.fit(X_train, y_train)"
      ],
      "metadata": {
        "colab": {
          "base_uri": "https://localhost:8080/"
        },
        "id": "XHvTCjgkNQgn",
        "outputId": "4dda7dc2-9cc9-45ae-9de6-19dc1ffacda0"
      },
      "execution_count": null,
      "outputs": [
        {
          "output_type": "execute_result",
          "data": {
            "text/plain": [
              "Pipeline(steps=[('standardscaler', StandardScaler()),\n",
              "                ('linearsvr', LinearSVR(max_iter=5000, random_state=42))])"
            ]
          },
          "metadata": {},
          "execution_count": 39
        }
      ]
    },
    {
      "cell_type": "markdown",
      "source": [
        "Let's see how it performs on the training set:"
      ],
      "metadata": {
        "id": "uMOWdULuNwOB"
      }
    },
    {
      "cell_type": "code",
      "source": [
        "from sklearn.metrics import mean_squared_error\n",
        "\n",
        "y_pred = lin_svr.predict(X_train)\n",
        "mse = mean_squared_error(y_train, y_pred)\n",
        "mse"
      ],
      "metadata": {
        "colab": {
          "base_uri": "https://localhost:8080/"
        },
        "id": "eC4tUSxQNhr_",
        "outputId": "c15e73ed-e236-4762-e219-10dc856d64fd"
      },
      "execution_count": null,
      "outputs": [
        {
          "output_type": "execute_result",
          "data": {
            "text/plain": [
              "0.9595484665813285"
            ]
          },
          "metadata": {},
          "execution_count": 40
        }
      ]
    },
    {
      "cell_type": "markdown",
      "source": [
        "Let's look at the RMSE:"
      ],
      "metadata": {
        "id": "nuGRdGhDNw-8"
      }
    },
    {
      "cell_type": "code",
      "source": [
        "np.sqrt(mse)"
      ],
      "metadata": {
        "colab": {
          "base_uri": "https://localhost:8080/"
        },
        "id": "TP0NhRYlNsx2",
        "outputId": "21921280-c8c8-4207-bcd9-c720bbc9dba7"
      },
      "execution_count": null,
      "outputs": [
        {
          "output_type": "execute_result",
          "data": {
            "text/plain": [
              "0.979565447829459"
            ]
          },
          "metadata": {},
          "execution_count": 41
        }
      ]
    },
    {
      "cell_type": "markdown",
      "source": [
        "In this dataset, the targets represent hundreds of thousands of dollars. The RMSE gives a rough idea of the kind of error you should expect (with a higher weight for large errors): so with this model we can expect errors close to $98,000! Not great. Let's see if we can do better with an RBF Kernel. We will use randomized search with cross validation to find the appropriate hyperparameter values for `C` and `gamma`:"
      ],
      "metadata": {
        "id": "HrKw36ifN_an"
      }
    },
    {
      "cell_type": "code",
      "source": [
        "from sklearn.svm import SVR\n",
        "\n",
        "svr = make_pipeline(StandardScaler(), SVR())\n",
        "\n",
        "param_distrib = {\n",
        "    \"svr__gamma\": reciprocal(0.001, 0.1),\n",
        "    \"svr__C\": uniform(1, 10)\n",
        "}\n",
        "rnd_search_cv = RandomizedSearchCV(svr, param_distrib,\n",
        "                                   n_iter=100, cv=3, random_state=42)\n",
        "rnd_search_cv.fit(X_train[:2000], y_train[:2000])"
      ],
      "metadata": {
        "colab": {
          "base_uri": "https://localhost:8080/"
        },
        "id": "DZRXBsHvN13Q",
        "outputId": "90b8bb0e-90ec-4dbf-e0bc-d32c4698b0d8"
      },
      "execution_count": null,
      "outputs": [
        {
          "output_type": "execute_result",
          "data": {
            "text/plain": [
              "RandomizedSearchCV(cv=3,\n",
              "                   estimator=Pipeline(steps=[('standardscaler',\n",
              "                                              StandardScaler()),\n",
              "                                             ('svr', SVR())]),\n",
              "                   n_iter=100,\n",
              "                   param_distributions={'svr__C': <scipy.stats._distn_infrastructure.rv_frozen object at 0x7f59b4d70850>,\n",
              "                                        'svr__gamma': <scipy.stats._distn_infrastructure.rv_frozen object at 0x7f59b450c110>},\n",
              "                   random_state=42)"
            ]
          },
          "metadata": {},
          "execution_count": 42
        }
      ]
    },
    {
      "cell_type": "code",
      "source": [
        "rnd_search_cv.best_estimator_"
      ],
      "metadata": {
        "colab": {
          "base_uri": "https://localhost:8080/"
        },
        "id": "A3ARTySwOMjR",
        "outputId": "fa2bcfbb-df8d-4493-dbdf-c340e3df6738"
      },
      "execution_count": null,
      "outputs": [
        {
          "output_type": "execute_result",
          "data": {
            "text/plain": [
              "Pipeline(steps=[('standardscaler', StandardScaler()),\n",
              "                ('svr', SVR(C=4.63629602379294, gamma=0.08781408196485974))])"
            ]
          },
          "metadata": {},
          "execution_count": 43
        }
      ]
    },
    {
      "cell_type": "code",
      "source": [
        "-cross_val_score(rnd_search_cv.best_estimator_, X_train, y_train,\n",
        "                 scoring=\"neg_root_mean_squared_error\")"
      ],
      "metadata": {
        "colab": {
          "base_uri": "https://localhost:8080/"
        },
        "id": "o7o6EdACOR11",
        "outputId": "b00aad1b-7324-4259-fc9d-793d7f208448"
      },
      "execution_count": null,
      "outputs": [
        {
          "output_type": "execute_result",
          "data": {
            "text/plain": [
              "array([0.58835648, 0.57468589, 0.58085278, 0.57109886, 0.59853029])"
            ]
          },
          "metadata": {},
          "execution_count": 44
        }
      ]
    },
    {
      "cell_type": "markdown",
      "source": [
        "Looks much better than the linear model. Let's select this model and evaluate it on the test set:"
      ],
      "metadata": {
        "id": "C5IP_sF7OZIn"
      }
    },
    {
      "cell_type": "code",
      "source": [
        "y_test_pred = rnd_search_cv.best_estimator_.predict(X_test)\n",
        "mse = mean_squared_error(y_test, y_test_pred)\n",
        "mse"
      ],
      "metadata": {
        "colab": {
          "base_uri": "https://localhost:8080/"
        },
        "id": "p1HU5PjTOSI2",
        "outputId": "5c1729da-35eb-4c1f-d5a3-d0aeae8caf14"
      },
      "execution_count": null,
      "outputs": [
        {
          "output_type": "execute_result",
          "data": {
            "text/plain": [
              "0.34277889896848657"
            ]
          },
          "metadata": {},
          "execution_count": 45
        }
      ]
    },
    {
      "cell_type": "markdown",
      "source": [
        "RMSE:"
      ],
      "metadata": {
        "id": "nJ_zvk4BO_dD"
      }
    },
    {
      "cell_type": "code",
      "source": [
        "np.sqrt(mse)"
      ],
      "metadata": {
        "colab": {
          "base_uri": "https://localhost:8080/"
        },
        "id": "3hGWsqe0Oux_",
        "outputId": "694e0819-59fd-4832-abcc-158018b019b2"
      },
      "execution_count": null,
      "outputs": [
        {
          "output_type": "execute_result",
          "data": {
            "text/plain": [
              "0.5854732265172222"
            ]
          },
          "metadata": {},
          "execution_count": 46
        }
      ]
    },
    {
      "cell_type": "markdown",
      "source": [
        "So SVMs worked very well on the Wine dataset, but not so much on the California Housing dataset.\n",
        "We are rougly off by $58,500"
      ],
      "metadata": {
        "id": "w5qWuIdlO0tA"
      }
    },
    {
      "cell_type": "markdown",
      "source": [
        "Okay, that's all for SVM's! 🙂"
      ],
      "metadata": {
        "id": "znTmLPOwO2wp"
      }
    }
  ]
}